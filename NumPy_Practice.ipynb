{
  "nbformat": 4,
  "nbformat_minor": 0,
  "metadata": {
    "colab": {
      "provenance": []
    },
    "kernelspec": {
      "name": "python3",
      "display_name": "Python 3"
    },
    "language_info": {
      "name": "python"
    }
  },
  "cells": [
    {
      "cell_type": "markdown",
      "source": [
        "**1. Introduction to NumPy**"
      ],
      "metadata": {
        "id": "PRXTJD_d_fpy"
      }
    },
    {
      "cell_type": "code",
      "execution_count": 77,
      "metadata": {
        "colab": {
          "base_uri": "https://localhost:8080/"
        },
        "id": "RM-Rb_OX30iW",
        "outputId": "dd01c4ce-31d6-48e4-814a-65096b7d8862"
      },
      "outputs": [
        {
          "output_type": "stream",
          "name": "stdout",
          "text": [
            "[ 20 210 100  10]\n"
          ]
        }
      ],
      "source": [
        "lst = [10, 200, 90, 0]\n",
        "\n",
        "import numpy as np\n",
        "arr = np.array(lst)\n",
        "\n",
        "print(arr + 10)"
      ]
    },
    {
      "cell_type": "code",
      "source": [
        "lst = [22, 45, 78, 50]\n",
        "\n",
        "import numpy as np\n",
        "import sys\n",
        "arr = np.array(lst)\n",
        "print(arr.nbytes)\n",
        "print(sys.getsizeof(lst))"
      ],
      "metadata": {
        "colab": {
          "base_uri": "https://localhost:8080/"
        },
        "id": "eU4AMJZH49i6",
        "outputId": "26436233-624e-463c-ff10-02e773b1b67f"
      },
      "execution_count": 78,
      "outputs": [
        {
          "output_type": "stream",
          "name": "stdout",
          "text": [
            "32\n",
            "104\n"
          ]
        }
      ]
    },
    {
      "cell_type": "markdown",
      "source": [
        "**2. NumPy Object Creation**"
      ],
      "metadata": {
        "id": "7oNWoa6W_rn-"
      }
    },
    {
      "cell_type": "markdown",
      "source": [
        "*Array Creation*"
      ],
      "metadata": {
        "id": "7_-vOP2R_5Mo"
      }
    },
    {
      "cell_type": "code",
      "source": [
        "import numpy as np\n",
        "a = np.array([1,2,3,4])\n",
        "b = np.array([[1,2,3,4], [5,6,7,8]])\n",
        "print(a)\n",
        "print('----')\n",
        "print(b)"
      ],
      "metadata": {
        "colab": {
          "base_uri": "https://localhost:8080/"
        },
        "id": "G2YM7_Sk5Vju",
        "outputId": "2dfceb5b-4176-40e7-a8d4-e9a5c6078e36"
      },
      "execution_count": 79,
      "outputs": [
        {
          "output_type": "stream",
          "name": "stdout",
          "text": [
            "[1 2 3 4]\n",
            "----\n",
            "[[1 2 3 4]\n",
            " [5 6 7 8]]\n"
          ]
        }
      ]
    },
    {
      "cell_type": "code",
      "source": [
        "a = np.array([1,2,3,4])\n",
        "b = np.array([[1,2,3,4], [5,6,7,8]])\n",
        "\n",
        "print('The shape of the array a is ', a.shape)\n",
        "print('The shape of the array b is ', b.shape)"
      ],
      "metadata": {
        "colab": {
          "base_uri": "https://localhost:8080/"
        },
        "id": "VAIkArkn6AWF",
        "outputId": "5633105c-411a-4a95-ff5d-6d8e2cb6d9c7"
      },
      "execution_count": 80,
      "outputs": [
        {
          "output_type": "stream",
          "name": "stdout",
          "text": [
            "The shape of the array a is  (4,)\n",
            "The shape of the array b is  (2, 4)\n"
          ]
        }
      ]
    },
    {
      "cell_type": "code",
      "source": [
        "print('The shape of the array a is ', a.ndim)\n",
        "print('The shape of the array b is ', b.ndim)"
      ],
      "metadata": {
        "colab": {
          "base_uri": "https://localhost:8080/"
        },
        "id": "a9ZLMa5g6a9s",
        "outputId": "db723d0d-2594-4ec4-c61d-aa5f3fb7b4e8"
      },
      "execution_count": 81,
      "outputs": [
        {
          "output_type": "stream",
          "name": "stdout",
          "text": [
            "The shape of the array a is  1\n",
            "The shape of the array b is  2\n"
          ]
        }
      ]
    },
    {
      "cell_type": "code",
      "source": [
        "print('The shape of the array a is ', a.size)\n",
        "print('The shape of the array b is ', b.size)"
      ],
      "metadata": {
        "colab": {
          "base_uri": "https://localhost:8080/"
        },
        "id": "Z4rxNLdk6i7i",
        "outputId": "8e4be71d-c5e3-4aa6-ed4e-a28f836fb07c"
      },
      "execution_count": 82,
      "outputs": [
        {
          "output_type": "stream",
          "name": "stdout",
          "text": [
            "The shape of the array a is  4\n",
            "The shape of the array b is  8\n"
          ]
        }
      ]
    },
    {
      "cell_type": "code",
      "source": [
        "print('The shape of the array a is ', a.dtype)\n",
        "print('The shape of the array b is ', b.dtype)"
      ],
      "metadata": {
        "colab": {
          "base_uri": "https://localhost:8080/"
        },
        "id": "hO9pfpGv6vvj",
        "outputId": "9055fc86-dc53-4882-877a-713776ef22ac"
      },
      "execution_count": 83,
      "outputs": [
        {
          "output_type": "stream",
          "name": "stdout",
          "text": [
            "The shape of the array a is  int64\n",
            "The shape of the array b is  int64\n"
          ]
        }
      ]
    },
    {
      "cell_type": "code",
      "source": [
        "print('The shape of the array a is ', a.itemsize)\n",
        "print('The shape of the array b is ', b.itemsize)"
      ],
      "metadata": {
        "colab": {
          "base_uri": "https://localhost:8080/"
        },
        "id": "OaI4p3DN62yr",
        "outputId": "cd5199b5-19e8-4536-ceca-9c622cc8b876"
      },
      "execution_count": 84,
      "outputs": [
        {
          "output_type": "stream",
          "name": "stdout",
          "text": [
            "The shape of the array a is  8\n",
            "The shape of the array b is  8\n"
          ]
        }
      ]
    },
    {
      "cell_type": "markdown",
      "source": [
        "*Matrix Creation*"
      ],
      "metadata": {
        "id": "6MkF7yY9AOtx"
      }
    },
    {
      "cell_type": "code",
      "source": [
        "print(np.array([5,6,8,45,12,52]).reshape(2,3))"
      ],
      "metadata": {
        "colab": {
          "base_uri": "https://localhost:8080/"
        },
        "id": "Terjlj0P7IPq",
        "outputId": "a771bf75-a9b6-4363-baa5-0bb21139f1c0"
      },
      "execution_count": 85,
      "outputs": [
        {
          "output_type": "stream",
          "name": "stdout",
          "text": [
            "[[ 5  6  8]\n",
            " [45 12 52]]\n"
          ]
        }
      ]
    },
    {
      "cell_type": "code",
      "source": [
        "print(np.matrix([[1,2], [3,4]]))"
      ],
      "metadata": {
        "colab": {
          "base_uri": "https://localhost:8080/"
        },
        "id": "GMYs8IyE7UWL",
        "outputId": "327c29a6-3506-4974-c22e-8fe9e1840ee4"
      },
      "execution_count": 86,
      "outputs": [
        {
          "output_type": "stream",
          "name": "stdout",
          "text": [
            "[[1 2]\n",
            " [3 4]]\n"
          ]
        }
      ]
    },
    {
      "cell_type": "code",
      "source": [
        "print(np.eye(3))"
      ],
      "metadata": {
        "colab": {
          "base_uri": "https://localhost:8080/"
        },
        "id": "A9DKQat27kFP",
        "outputId": "0e7d6707-5565-48fc-8178-0d75b81ab99b"
      },
      "execution_count": 87,
      "outputs": [
        {
          "output_type": "stream",
          "name": "stdout",
          "text": [
            "[[1. 0. 0.]\n",
            " [0. 1. 0.]\n",
            " [0. 0. 1.]]\n"
          ]
        }
      ]
    },
    {
      "cell_type": "code",
      "source": [
        "print( np.zeros( (4,3) ) )"
      ],
      "metadata": {
        "colab": {
          "base_uri": "https://localhost:8080/"
        },
        "id": "c9kpSTHg7oLa",
        "outputId": "2baaaa04-7d10-4fbc-84f0-acaa4c9d254c"
      },
      "execution_count": 88,
      "outputs": [
        {
          "output_type": "stream",
          "name": "stdout",
          "text": [
            "[[0. 0. 0.]\n",
            " [0. 0. 0.]\n",
            " [0. 0. 0.]\n",
            " [0. 0. 0.]]\n"
          ]
        }
      ]
    },
    {
      "cell_type": "code",
      "source": [
        "print(np.ones( (3,3), dtype = np.float64 ))"
      ],
      "metadata": {
        "colab": {
          "base_uri": "https://localhost:8080/"
        },
        "id": "tmBj-eea7wCX",
        "outputId": "1fb2d607-afdc-4261-ef59-b9397f3e5313"
      },
      "execution_count": 89,
      "outputs": [
        {
          "output_type": "stream",
          "name": "stdout",
          "text": [
            "[[1. 1. 1.]\n",
            " [1. 1. 1.]\n",
            " [1. 1. 1.]]\n"
          ]
        }
      ]
    },
    {
      "cell_type": "code",
      "source": [
        "print(np.arange(1,20,dtype='int32'))"
      ],
      "metadata": {
        "colab": {
          "base_uri": "https://localhost:8080/"
        },
        "id": "s1kFM5uQ76vB",
        "outputId": "94fdc28c-a89f-4249-aad5-784796a05d3e"
      },
      "execution_count": 90,
      "outputs": [
        {
          "output_type": "stream",
          "name": "stdout",
          "text": [
            "[ 1  2  3  4  5  6  7  8  9 10 11 12 13 14 15 16 17 18 19]\n"
          ]
        }
      ]
    },
    {
      "cell_type": "code",
      "source": [
        "print(np.arange(1,20,2,dtype='int8'))"
      ],
      "metadata": {
        "colab": {
          "base_uri": "https://localhost:8080/"
        },
        "id": "eSCI5Ylv8OBU",
        "outputId": "aa319e8f-37bc-47cc-9661-a1a2be96d553"
      },
      "execution_count": 91,
      "outputs": [
        {
          "output_type": "stream",
          "name": "stdout",
          "text": [
            "[ 1  3  5  7  9 11 13 15 17 19]\n"
          ]
        }
      ]
    },
    {
      "cell_type": "markdown",
      "source": [
        "PRACTICE EXERCISE"
      ],
      "metadata": {
        "id": "WiDk1lUOAi71"
      }
    },
    {
      "cell_type": "code",
      "source": [
        "marks = np.array([20,30,40])\n",
        "IDs = np.array([0,2,4])\n",
        "\n",
        "print(marks)\n",
        "print(IDs)"
      ],
      "metadata": {
        "colab": {
          "base_uri": "https://localhost:8080/"
        },
        "id": "BMee3G_a0HSw",
        "outputId": "418aeab3-2411-454e-85d6-af2b453de427"
      },
      "execution_count": 92,
      "outputs": [
        {
          "output_type": "stream",
          "name": "stdout",
          "text": [
            "[20 30 40]\n",
            "[0 2 4]\n"
          ]
        }
      ]
    },
    {
      "cell_type": "markdown",
      "source": [
        "ANOTHER PRACTICE EXERCISE"
      ],
      "metadata": {
        "id": "ka-MOIIbAyTa"
      }
    },
    {
      "cell_type": "code",
      "source": [
        "arr1 = [25,56,12,85,34,75]\n",
        "arr1 = np.array(arr1)\n",
        "print(np.array(arr1))\n",
        "shape = arr1.shape\n",
        "print(shape)\n",
        "print(np.random.rand(shape[0]))\n",
        "arr1.astype('complex')"
      ],
      "metadata": {
        "colab": {
          "base_uri": "https://localhost:8080/"
        },
        "id": "bY59okwT11As",
        "outputId": "814ae608-c49a-4bbb-ce9c-e8bcf68e6585"
      },
      "execution_count": 93,
      "outputs": [
        {
          "output_type": "stream",
          "name": "stdout",
          "text": [
            "[25 56 12 85 34 75]\n",
            "(6,)\n",
            "[0.09040301 0.86636438 0.40269354 0.99300493 0.58391251 0.56559788]\n"
          ]
        },
        {
          "output_type": "execute_result",
          "data": {
            "text/plain": [
              "array([25.+0.j, 56.+0.j, 12.+0.j, 85.+0.j, 34.+0.j, 75.+0.j])"
            ]
          },
          "metadata": {},
          "execution_count": 93
        }
      ]
    },
    {
      "cell_type": "markdown",
      "source": [
        "**3. Indexing & Slicing**"
      ],
      "metadata": {
        "id": "flOPSXTCA89a"
      }
    },
    {
      "cell_type": "markdown",
      "source": [
        "*Indexing*"
      ],
      "metadata": {
        "id": "fc5yJxW8BELG"
      }
    },
    {
      "cell_type": "code",
      "source": [
        "import numpy as np\n",
        "\n",
        "a = np.array([[1,2,3],[4,5,6],[7,8,9]])\n",
        "print(a)"
      ],
      "metadata": {
        "colab": {
          "base_uri": "https://localhost:8080/"
        },
        "id": "sFqvFjIiJZw1",
        "outputId": "e46eb833-b0b2-49c0-b5ba-a4b84252e8e0"
      },
      "execution_count": 94,
      "outputs": [
        {
          "output_type": "stream",
          "name": "stdout",
          "text": [
            "[[1 2 3]\n",
            " [4 5 6]\n",
            " [7 8 9]]\n"
          ]
        }
      ]
    },
    {
      "cell_type": "code",
      "source": [
        "a = np.array([[1,2,3],[4,5,6],[7,8,9]])\n",
        "\n",
        "# Pull out second element of third row\n",
        "print(a[2][1])\n",
        "print('==========')\n",
        "# Pull out first two rows and columns\n",
        "print(a[:2,:2])\n",
        "print('==========')\n",
        "# Pull all elements of the third row\n",
        "print(a[2,:])\n",
        "\n",
        "#start:stop"
      ],
      "metadata": {
        "id": "2ITrLjmgK2UW",
        "colab": {
          "base_uri": "https://localhost:8080/"
        },
        "outputId": "6576c4a4-6fdb-408b-e41b-b7b0d2e9b5bd"
      },
      "execution_count": 95,
      "outputs": [
        {
          "output_type": "stream",
          "name": "stdout",
          "text": [
            "8\n",
            "==========\n",
            "[[1 2]\n",
            " [4 5]]\n",
            "==========\n",
            "[7 8 9]\n"
          ]
        }
      ]
    },
    {
      "cell_type": "code",
      "source": [
        "print(a[1,1:])"
      ],
      "metadata": {
        "colab": {
          "base_uri": "https://localhost:8080/"
        },
        "id": "5Jlhet-JJ2Zj",
        "outputId": "cb20e107-b2ac-4b09-d606-866c3c0fb93e"
      },
      "execution_count": 96,
      "outputs": [
        {
          "output_type": "stream",
          "name": "stdout",
          "text": [
            "[5 6]\n"
          ]
        }
      ]
    },
    {
      "cell_type": "markdown",
      "source": [
        "*Integer Array Indexing*"
      ],
      "metadata": {
        "id": "l0HxUNSpBe4e"
      }
    },
    {
      "cell_type": "code",
      "source": [
        "a=np.array([[1,2],[3,4],[5,6]])\n",
        "\n",
        "print(a[[0,1,2],[0,1,0]])\n",
        "print('==========')\n",
        "\n",
        "print(np.array([a[0,0],a[1,1],a[2,0]]))\n",
        "print('==========')\n",
        "\n",
        "print(a[[0,0],[1,1]])\n",
        "print('==========')\n",
        "\n",
        "print(np.array([a[0,1],a[0,1]]))\n"
      ],
      "metadata": {
        "colab": {
          "base_uri": "https://localhost:8080/"
        },
        "id": "8zENsadKA5jP",
        "outputId": "b5268470-29e3-4831-d9ee-bf2a6f979959"
      },
      "execution_count": 97,
      "outputs": [
        {
          "output_type": "stream",
          "name": "stdout",
          "text": [
            "[1 4 5]\n",
            "==========\n",
            "[1 4 5]\n",
            "==========\n",
            "[2 2]\n",
            "==========\n",
            "[2 2]\n"
          ]
        }
      ]
    },
    {
      "cell_type": "markdown",
      "source": [
        "*Boolean indexing*"
      ],
      "metadata": {
        "id": "hHqj82oBBtp0"
      }
    },
    {
      "cell_type": "code",
      "source": [
        "a = np.array([[4,7,1],[2,5,7],[7,1,1]])\n",
        "\n",
        "# Boolean condition for values greater than 3\n",
        "mask = a > 3\n",
        "print(mask)\n",
        "\n",
        "# Masking for the above boolean condition in the array\n",
        "print(a[mask])\n"
      ],
      "metadata": {
        "colab": {
          "base_uri": "https://localhost:8080/"
        },
        "id": "UZmaNI1NBrnd",
        "outputId": "9fed2515-bbfe-4542-8b4e-b8969f7fd3cb"
      },
      "execution_count": 98,
      "outputs": [
        {
          "output_type": "stream",
          "name": "stdout",
          "text": [
            "[[ True  True False]\n",
            " [False  True  True]\n",
            " [ True False False]]\n",
            "[4 7 5 7 7]\n"
          ]
        }
      ]
    },
    {
      "cell_type": "markdown",
      "source": [
        "PRACTICE EXERCISE "
      ],
      "metadata": {
        "id": "aXE-jR53B3GW"
      }
    },
    {
      "cell_type": "code",
      "source": [
        "arr_new = np.array([3,4.5,3+5j, 0])\n",
        "np.isreal(arr_new)"
      ],
      "metadata": {
        "colab": {
          "base_uri": "https://localhost:8080/"
        },
        "id": "Z_nBSk-DBzzu",
        "outputId": "4a13b8f1-3f07-4f03-996f-ff4c1a14b55a"
      },
      "execution_count": 99,
      "outputs": [
        {
          "output_type": "execute_result",
          "data": {
            "text/plain": [
              "array([ True,  True, False,  True])"
            ]
          },
          "metadata": {},
          "execution_count": 99
        }
      ]
    },
    {
      "cell_type": "code",
      "source": [
        "np.iscomplex(arr_new)"
      ],
      "metadata": {
        "colab": {
          "base_uri": "https://localhost:8080/"
        },
        "id": "RYR2Lv0AE3aD",
        "outputId": "151adf2d-6c15-4cb7-ff09-baba523accf3"
      },
      "execution_count": 100,
      "outputs": [
        {
          "output_type": "execute_result",
          "data": {
            "text/plain": [
              "array([False, False,  True, False])"
            ]
          },
          "metadata": {},
          "execution_count": 100
        }
      ]
    },
    {
      "cell_type": "markdown",
      "source": [
        "**4. VECTORIZATION**"
      ],
      "metadata": {
        "id": "E8rtlYP_-cgb"
      }
    },
    {
      "cell_type": "code",
      "source": [
        "'''Vectoriztion is the ability of NumPy by which \n",
        "operations on entire arrays rather than on one single element'''\n",
        "\n",
        "import numpy as np\n",
        "arr = np.array([1,2,3,4,5,6,7])\n",
        "print(arr[arr > 2])\n"
      ],
      "metadata": {
        "colab": {
          "base_uri": "https://localhost:8080/"
        },
        "id": "SAyHsS1vE_A8",
        "outputId": "c3af405f-c6fe-4380-ea0e-7dc822c43fd7"
      },
      "execution_count": 101,
      "outputs": [
        {
          "output_type": "stream",
          "name": "stdout",
          "text": [
            "[3 4 5 6 7]\n"
          ]
        }
      ]
    },
    {
      "cell_type": "markdown",
      "source": [
        "Vectorized Operations:"
      ],
      "metadata": {
        "id": "mfEto8uf-gGF"
      }
    },
    {
      "cell_type": "code",
      "source": [
        "a = np.array([[1,2,3],[4,5,6],[7,8,9]])\n",
        "b = np.array([[10,11,12],[13,14,15],[16,17,18]])\n",
        "\n",
        "print(a+b)\n",
        "print(a-b)\n",
        "print(a*b)\n",
        "print(a/b)\n",
        "print('===================================')\n",
        "a = np.array([[1,4,9],[16,25,36]])\n",
        "print(np.sqrt(a))"
      ],
      "metadata": {
        "colab": {
          "base_uri": "https://localhost:8080/"
        },
        "id": "QVnZQlggGIcm",
        "outputId": "6a143a06-e15c-4f46-e892-92dea09ba675"
      },
      "execution_count": 102,
      "outputs": [
        {
          "output_type": "stream",
          "name": "stdout",
          "text": [
            "[[11 13 15]\n",
            " [17 19 21]\n",
            " [23 25 27]]\n",
            "[[-9 -9 -9]\n",
            " [-9 -9 -9]\n",
            " [-9 -9 -9]]\n",
            "[[ 10  22  36]\n",
            " [ 52  70  90]\n",
            " [112 136 162]]\n",
            "[[0.1        0.18181818 0.25      ]\n",
            " [0.30769231 0.35714286 0.4       ]\n",
            " [0.4375     0.47058824 0.5       ]]\n",
            "===================================\n",
            "[[1. 2. 3.]\n",
            " [4. 5. 6.]]\n"
          ]
        }
      ]
    },
    {
      "cell_type": "code",
      "source": [
        "a.sum()"
      ],
      "metadata": {
        "colab": {
          "base_uri": "https://localhost:8080/"
        },
        "id": "ZR5qrOpjG59G",
        "outputId": "b85c60cc-1dda-4210-c27c-e431cf7c9862"
      },
      "execution_count": 103,
      "outputs": [
        {
          "output_type": "execute_result",
          "data": {
            "text/plain": [
              "91"
            ]
          },
          "metadata": {},
          "execution_count": 103
        }
      ]
    },
    {
      "cell_type": "code",
      "source": [
        "a.min()"
      ],
      "metadata": {
        "colab": {
          "base_uri": "https://localhost:8080/"
        },
        "id": "bB4R-qBXHDlm",
        "outputId": "2e2fd118-2211-41b1-b3a6-01ab7505c265"
      },
      "execution_count": 104,
      "outputs": [
        {
          "output_type": "execute_result",
          "data": {
            "text/plain": [
              "1"
            ]
          },
          "metadata": {},
          "execution_count": 104
        }
      ]
    },
    {
      "cell_type": "code",
      "source": [
        "a.max(axis=0)"
      ],
      "metadata": {
        "colab": {
          "base_uri": "https://localhost:8080/"
        },
        "id": "YOa9BOYWHMPM",
        "outputId": "974251bd-9a50-4734-f361-ac1f0fae66cd"
      },
      "execution_count": 105,
      "outputs": [
        {
          "output_type": "execute_result",
          "data": {
            "text/plain": [
              "array([16, 25, 36])"
            ]
          },
          "metadata": {},
          "execution_count": 105
        }
      ]
    },
    {
      "cell_type": "code",
      "source": [
        "a.cumsum(axis=1)"
      ],
      "metadata": {
        "colab": {
          "base_uri": "https://localhost:8080/"
        },
        "id": "ExqkvkwyHSTs",
        "outputId": "36eb95a4-b3d1-46fb-986a-6e1cfb7b7905"
      },
      "execution_count": 106,
      "outputs": [
        {
          "output_type": "execute_result",
          "data": {
            "text/plain": [
              "array([[ 1,  5, 14],\n",
              "       [16, 41, 77]])"
            ]
          },
          "metadata": {},
          "execution_count": 106
        }
      ]
    },
    {
      "cell_type": "code",
      "source": [
        "a.mean()"
      ],
      "metadata": {
        "colab": {
          "base_uri": "https://localhost:8080/"
        },
        "id": "XtKxbg9yHYMp",
        "outputId": "afcba1f1-6bbd-4c2c-e20a-4da44c6b1263"
      },
      "execution_count": 107,
      "outputs": [
        {
          "output_type": "execute_result",
          "data": {
            "text/plain": [
              "15.166666666666666"
            ]
          },
          "metadata": {},
          "execution_count": 107
        }
      ]
    },
    {
      "cell_type": "code",
      "source": [
        "np.median(a)"
      ],
      "metadata": {
        "colab": {
          "base_uri": "https://localhost:8080/"
        },
        "id": "BF-4KFqKHdHF",
        "outputId": "aed92998-f860-4781-f8b1-84a62868565f"
      },
      "execution_count": 108,
      "outputs": [
        {
          "output_type": "execute_result",
          "data": {
            "text/plain": [
              "12.5"
            ]
          },
          "metadata": {},
          "execution_count": 108
        }
      ]
    },
    {
      "cell_type": "code",
      "source": [
        "np.corrcoef(a)"
      ],
      "metadata": {
        "colab": {
          "base_uri": "https://localhost:8080/"
        },
        "id": "P1m8uX2iHkjy",
        "outputId": "2e820617-d465-40a8-e139-21c1ebb0130c"
      },
      "execution_count": 109,
      "outputs": [
        {
          "output_type": "execute_result",
          "data": {
            "text/plain": [
              "array([[1.        , 0.99633201],\n",
              "       [0.99633201, 1.        ]])"
            ]
          },
          "metadata": {},
          "execution_count": 109
        }
      ]
    },
    {
      "cell_type": "code",
      "source": [
        "np.std(a)"
      ],
      "metadata": {
        "colab": {
          "base_uri": "https://localhost:8080/"
        },
        "id": "Iqj7TdT3Hrqv",
        "outputId": "6c2130ed-1f74-4636-8014-42f3d0cbea4e"
      },
      "execution_count": 110,
      "outputs": [
        {
          "output_type": "execute_result",
          "data": {
            "text/plain": [
              "12.212243401148248"
            ]
          },
          "metadata": {},
          "execution_count": 110
        }
      ]
    },
    {
      "cell_type": "markdown",
      "source": [
        "*Array Comparison & Understanding Axes Notation*"
      ],
      "metadata": {
        "id": "vnqJv66i-t4B"
      }
    },
    {
      "cell_type": "code",
      "source": [
        "coefficients = np.array([1,-4,4])\n",
        "roots = np.roots(coefficients)\n",
        "print(roots)"
      ],
      "metadata": {
        "colab": {
          "base_uri": "https://localhost:8080/"
        },
        "id": "ukBwqLGtH41e",
        "outputId": "aedc7eeb-3e0d-46ed-9437-50e44d159dca"
      },
      "execution_count": 111,
      "outputs": [
        {
          "output_type": "stream",
          "name": "stdout",
          "text": [
            "[2. 2.]\n"
          ]
        }
      ]
    },
    {
      "cell_type": "code",
      "source": [
        "a = np.array([5,6,7,8])\n",
        "b = np.array([5,6,7,8])\n",
        "print(np.array_equal(a,b))"
      ],
      "metadata": {
        "colab": {
          "base_uri": "https://localhost:8080/"
        },
        "id": "xugcoDEIINo0",
        "outputId": "ecd27cbe-3be2-4efc-aea7-4cde4ceef29d"
      },
      "execution_count": 112,
      "outputs": [
        {
          "output_type": "stream",
          "name": "stdout",
          "text": [
            "True\n"
          ]
        }
      ]
    },
    {
      "cell_type": "code",
      "source": [],
      "metadata": {
        "id": "91S-UV_I--e0"
      },
      "execution_count": 112,
      "outputs": []
    },
    {
      "cell_type": "markdown",
      "source": [
        "*Axes Notation*"
      ],
      "metadata": {
        "id": "3lhKLkna-965"
      }
    },
    {
      "cell_type": "code",
      "source": [
        "a = np.array([[2,5,7],[4,25,30]])\n",
        "\n",
        "# computes sum over columns\n",
        "print(a.sum(axis=0))\n",
        "print('==========')\n",
        "\n",
        "# computes sum over rows\n",
        "print(a.sum(axis=1))\n",
        "print('==========')\n",
        "\n",
        "# computes total sum\n",
        "print(a.sum())"
      ],
      "metadata": {
        "colab": {
          "base_uri": "https://localhost:8080/"
        },
        "id": "o_Rbe-X7Iuqw",
        "outputId": "ae4a7878-c486-4b09-f3ec-642d4f9ff722"
      },
      "execution_count": 113,
      "outputs": [
        {
          "output_type": "stream",
          "name": "stdout",
          "text": [
            "[ 6 30 37]\n",
            "==========\n",
            "[14 59]\n",
            "==========\n",
            "73\n"
          ]
        }
      ]
    },
    {
      "cell_type": "code",
      "source": [
        "c = np.array([[40,35,20],[21,48,70]])\n",
        "print(c)"
      ],
      "metadata": {
        "colab": {
          "base_uri": "https://localhost:8080/"
        },
        "id": "y350OGlEJYtP",
        "outputId": "d7874809-f0df-4d56-b475-d8d9478e67a9"
      },
      "execution_count": 114,
      "outputs": [
        {
          "output_type": "stream",
          "name": "stdout",
          "text": [
            "[[40 35 20]\n",
            " [21 48 70]]\n"
          ]
        }
      ]
    },
    {
      "cell_type": "code",
      "source": [
        "c.max()"
      ],
      "metadata": {
        "colab": {
          "base_uri": "https://localhost:8080/"
        },
        "id": "x2Tan7olKsD8",
        "outputId": "d75e1b0e-0221-4a2b-e4c7-c7e7cfc8ab7f"
      },
      "execution_count": 115,
      "outputs": [
        {
          "output_type": "execute_result",
          "data": {
            "text/plain": [
              "70"
            ]
          },
          "metadata": {},
          "execution_count": 115
        }
      ]
    },
    {
      "cell_type": "code",
      "source": [
        "c.min()"
      ],
      "metadata": {
        "colab": {
          "base_uri": "https://localhost:8080/"
        },
        "id": "i4k3wXC4L7EH",
        "outputId": "1350d5bb-839b-4105-81fe-bdbb5be9e562"
      },
      "execution_count": 116,
      "outputs": [
        {
          "output_type": "execute_result",
          "data": {
            "text/plain": [
              "20"
            ]
          },
          "metadata": {},
          "execution_count": 116
        }
      ]
    },
    {
      "cell_type": "code",
      "source": [
        "print(c.max()-c.min())"
      ],
      "metadata": {
        "colab": {
          "base_uri": "https://localhost:8080/"
        },
        "id": "z2vRixXvMNv7",
        "outputId": "49944be6-cf6b-4544-d1fd-656dbc73455d"
      },
      "execution_count": 117,
      "outputs": [
        {
          "output_type": "stream",
          "name": "stdout",
          "text": [
            "50\n"
          ]
        }
      ]
    },
    {
      "cell_type": "code",
      "source": [
        "print(c[0][2])\n",
        "print(c[1][2])\n",
        "print(c[:,2])\n",
        "#pulls all the elements in the 3rd column"
      ],
      "metadata": {
        "colab": {
          "base_uri": "https://localhost:8080/"
        },
        "id": "BhmLKFg4MrF_",
        "outputId": "3970e995-786a-4109-d4da-c78a9d882f64"
      },
      "execution_count": 118,
      "outputs": [
        {
          "output_type": "stream",
          "name": "stdout",
          "text": [
            "20\n",
            "70\n",
            "[20 70]\n"
          ]
        }
      ]
    },
    {
      "cell_type": "markdown",
      "source": [
        "**5. BROADCASTING**\n"
      ],
      "metadata": {
        "id": "c1IOqEq-9gkd"
      }
    },
    {
      "cell_type": "code",
      "source": [
        "np.arange(3)+4"
      ],
      "metadata": {
        "colab": {
          "base_uri": "https://localhost:8080/"
        },
        "id": "wdDmGAp_PEPc",
        "outputId": "f3004b78-d1fe-4f5a-ca89-6b2dda544b95"
      },
      "execution_count": 119,
      "outputs": [
        {
          "output_type": "execute_result",
          "data": {
            "text/plain": [
              "array([4, 5, 6])"
            ]
          },
          "metadata": {},
          "execution_count": 119
        }
      ]
    },
    {
      "cell_type": "code",
      "source": [
        "np.ones((3,3))+ np.arange(3)"
      ],
      "metadata": {
        "colab": {
          "base_uri": "https://localhost:8080/"
        },
        "id": "XWYldWz6PL6w",
        "outputId": "04ffda1f-c82e-463a-e0e5-2850eaced769"
      },
      "execution_count": 120,
      "outputs": [
        {
          "output_type": "execute_result",
          "data": {
            "text/plain": [
              "array([[1., 2., 3.],\n",
              "       [1., 2., 3.],\n",
              "       [1., 2., 3.]])"
            ]
          },
          "metadata": {},
          "execution_count": 120
        }
      ]
    },
    {
      "cell_type": "code",
      "source": [
        "np.arange(3).reshape((3,1))+np.arange(3)"
      ],
      "metadata": {
        "colab": {
          "base_uri": "https://localhost:8080/"
        },
        "id": "Tng2Qx5IPULi",
        "outputId": "06eebeda-915f-4bf2-a165-c55b4d8e68f3"
      },
      "execution_count": 121,
      "outputs": [
        {
          "output_type": "execute_result",
          "data": {
            "text/plain": [
              "array([[0, 1, 2],\n",
              "       [1, 2, 3],\n",
              "       [2, 3, 4]])"
            ]
          },
          "metadata": {},
          "execution_count": 121
        }
      ]
    },
    {
      "cell_type": "markdown",
      "source": [
        "PRACTICE EXERCISE"
      ],
      "metadata": {
        "id": "k0bb9orY9Gty"
      }
    },
    {
      "cell_type": "code",
      "source": [
        "random_arr = np.random.random((5,5))\n",
        "random_arr"
      ],
      "metadata": {
        "colab": {
          "base_uri": "https://localhost:8080/"
        },
        "id": "8S8KoYpWPhtK",
        "outputId": "4f8ecb9f-ca7e-4667-a337-456e9a3d83e2"
      },
      "execution_count": 122,
      "outputs": [
        {
          "output_type": "execute_result",
          "data": {
            "text/plain": [
              "array([[0.72125572, 0.73172937, 0.47869437, 0.85060931, 0.17119805],\n",
              "       [0.02965475, 0.51476605, 0.5640564 , 0.83964252, 0.00758639],\n",
              "       [0.9314012 , 0.02362269, 0.92122944, 0.91943905, 0.32432659],\n",
              "       [0.23624209, 0.08310095, 0.4268678 , 0.31730286, 0.55680476],\n",
              "       [0.96575545, 0.84949516, 0.64695309, 0.21593257, 0.00307372]])"
            ]
          },
          "metadata": {},
          "execution_count": 122
        }
      ]
    },
    {
      "cell_type": "code",
      "source": [
        "min_val = random_arr.min()\n",
        "min_val"
      ],
      "metadata": {
        "colab": {
          "base_uri": "https://localhost:8080/"
        },
        "id": "5t9Q_LO9Pt8q",
        "outputId": "eb8813ec-2287-446c-de22-4ce036c7d610"
      },
      "execution_count": 123,
      "outputs": [
        {
          "output_type": "execute_result",
          "data": {
            "text/plain": [
              "0.0030737157758142786"
            ]
          },
          "metadata": {},
          "execution_count": 123
        }
      ]
    },
    {
      "cell_type": "code",
      "source": [
        "max_val = random_arr.max()\n",
        "max_val"
      ],
      "metadata": {
        "colab": {
          "base_uri": "https://localhost:8080/"
        },
        "id": "ycXrir6DRfSC",
        "outputId": "acdaa3b7-230c-4c53-943a-56cb39855523"
      },
      "execution_count": 124,
      "outputs": [
        {
          "output_type": "execute_result",
          "data": {
            "text/plain": [
              "0.9657554543311052"
            ]
          },
          "metadata": {},
          "execution_count": 124
        }
      ]
    },
    {
      "cell_type": "code",
      "source": [
        "z_norm = (random_arr-min_val)/(max_val-min_val)"
      ],
      "metadata": {
        "id": "WTRi2edPRL9Z"
      },
      "execution_count": 125,
      "outputs": []
    },
    {
      "cell_type": "code",
      "source": [
        "print(z_norm)"
      ],
      "metadata": {
        "colab": {
          "base_uri": "https://localhost:8080/"
        },
        "id": "MNuJQ52nRtSl",
        "outputId": "3631dabc-c1aa-41ef-d244-6f500d2f644d"
      },
      "execution_count": 126,
      "outputs": [
        {
          "output_type": "stream",
          "name": "stdout",
          "text": [
            "[[0.74602226 0.75690192 0.49405804 0.88039023 0.17464166]\n",
            " [0.02761144 0.53152804 0.58272912 0.86899831 0.0046876 ]\n",
            " [0.96431401 0.02134556 0.95374794 0.95188815 0.33370621]\n",
            " [0.24220712 0.08312948 0.44022242 0.3264102  0.57519637]\n",
            " [1.         0.87923289 0.6688393  0.22111031 0.        ]]\n"
          ]
        }
      ]
    },
    {
      "cell_type": "markdown",
      "source": [
        "**Mini Project: \"Make Sense of Census\"**"
      ],
      "metadata": {
        "id": "MafraDVovJ0l"
      }
    },
    {
      "cell_type": "markdown",
      "source": [
        "\n",
        "Step 1 : Read the Data!"
      ],
      "metadata": {
        "id": "3ssThrk4ui4i"
      }
    },
    {
      "cell_type": "code",
      "source": [
        "data_file = '/content/makeSenseOfCensus.csv'"
      ],
      "metadata": {
        "id": "Kql423JvRqz8"
      },
      "execution_count": 127,
      "outputs": []
    },
    {
      "cell_type": "code",
      "source": [
        "#Loading the data\n",
        "import numpy as np\n",
        "data = np.genfromtxt(data_file, delimiter=',',skip_header=1)"
      ],
      "metadata": {
        "id": "Xl4aC7PdB6ed"
      },
      "execution_count": 128,
      "outputs": []
    },
    {
      "cell_type": "code",
      "source": [
        "print(\"nData: \\n\\n\", data)"
      ],
      "metadata": {
        "colab": {
          "base_uri": "https://localhost:8080/"
        },
        "id": "eF8bn5v-CxPY",
        "outputId": "7fe4d0fd-dd09-4108-9359-49522f612077"
      },
      "execution_count": 129,
      "outputs": [
        {
          "output_type": "stream",
          "name": "stdout",
          "text": [
            "nData: \n",
            "\n",
            " [[39. 13.  4. ...  0. 40.  0.]\n",
            " [50. 13.  4. ...  0. 13.  0.]\n",
            " [38.  9.  4. ...  0. 40.  0.]\n",
            " ...\n",
            " [48. 13.  4. ...  0. 58.  1.]\n",
            " [40. 10.  4. ...  0. 40.  0.]\n",
            " [39. 13.  4. ...  0. 50.  1.]]\n"
          ]
        }
      ]
    },
    {
      "cell_type": "code",
      "source": [
        "#Printing the data\n",
        "print(\"\\nType of data: \\n\\n\", type(data))"
      ],
      "metadata": {
        "colab": {
          "base_uri": "https://localhost:8080/"
        },
        "id": "vc4lZo_eDR8i",
        "outputId": "9d72946f-763d-41f3-90ac-616e8e44b42a"
      },
      "execution_count": 130,
      "outputs": [
        {
          "output_type": "stream",
          "name": "stdout",
          "text": [
            "\n",
            "Type of data: \n",
            "\n",
            " <class 'numpy.ndarray'>\n"
          ]
        }
      ]
    },
    {
      "cell_type": "markdown",
      "source": [
        "Step 2 : Append the Data"
      ],
      "metadata": {
        "id": "AdsKsFTeudCl"
      }
    },
    {
      "cell_type": "code",
      "source": [
        "new_record=[[50, 9, 4, 1, 0, 0, 40, 0]]\n",
        "np.concatenate((data, new_record), axis=0)\n"
      ],
      "metadata": {
        "colab": {
          "base_uri": "https://localhost:8080/"
        },
        "id": "Nx_f6udLDT1t",
        "outputId": "ab13a915-067d-4402-c0a3-afb75dba38c5"
      },
      "execution_count": 131,
      "outputs": [
        {
          "output_type": "execute_result",
          "data": {
            "text/plain": [
              "array([[39., 13.,  4., ...,  0., 40.,  0.],\n",
              "       [50., 13.,  4., ...,  0., 13.,  0.],\n",
              "       [38.,  9.,  4., ...,  0., 40.,  0.],\n",
              "       ...,\n",
              "       [40., 10.,  4., ...,  0., 40.,  0.],\n",
              "       [39., 13.,  4., ...,  0., 50.,  1.],\n",
              "       [50.,  9.,  4., ...,  0., 40.,  0.]])"
            ]
          },
          "metadata": {},
          "execution_count": 131
        }
      ]
    },
    {
      "cell_type": "markdown",
      "source": [
        "Step 3 : Check if it's a young country or old country"
      ],
      "metadata": {
        "id": "JPyv99qPuSuZ"
      }
    },
    {
      "cell_type": "code",
      "source": [
        "age = data[:, 0]\n"
      ],
      "metadata": {
        "id": "M0tZZSR0DtcR"
      },
      "execution_count": 132,
      "outputs": []
    },
    {
      "cell_type": "code",
      "source": [
        "max_age = age.max()\n",
        "max_age"
      ],
      "metadata": {
        "colab": {
          "base_uri": "https://localhost:8080/"
        },
        "id": "CyIxnVwBEkne",
        "outputId": "21cc78e8-7873-4e6e-9d99-81db3fd063cb"
      },
      "execution_count": 133,
      "outputs": [
        {
          "output_type": "execute_result",
          "data": {
            "text/plain": [
              "90.0"
            ]
          },
          "metadata": {},
          "execution_count": 133
        }
      ]
    },
    {
      "cell_type": "code",
      "source": [
        "min_age = age.min()\n",
        "min_age"
      ],
      "metadata": {
        "colab": {
          "base_uri": "https://localhost:8080/"
        },
        "id": "-WxFCeuTFLYU",
        "outputId": "d0658b4a-5357-4885-88d2-1ebdcf831bd1"
      },
      "execution_count": 134,
      "outputs": [
        {
          "output_type": "execute_result",
          "data": {
            "text/plain": [
              "17.0"
            ]
          },
          "metadata": {},
          "execution_count": 134
        }
      ]
    },
    {
      "cell_type": "code",
      "source": [
        "age_mean = age.mean()\n",
        "age_mean"
      ],
      "metadata": {
        "colab": {
          "base_uri": "https://localhost:8080/"
        },
        "id": "Ajwhc9_GFUq0",
        "outputId": "671d93ce-a7ef-4369-e344-51c068bfa648"
      },
      "execution_count": 135,
      "outputs": [
        {
          "output_type": "execute_result",
          "data": {
            "text/plain": [
              "38.051"
            ]
          },
          "metadata": {},
          "execution_count": 135
        }
      ]
    },
    {
      "cell_type": "code",
      "source": [
        "age_std = age.std()\n",
        "age_std"
      ],
      "metadata": {
        "colab": {
          "base_uri": "https://localhost:8080/"
        },
        "id": "VZpUX-yMFcku",
        "outputId": "4c1fafb0-5ec5-4c04-d267-68355908edd5"
      },
      "execution_count": 136,
      "outputs": [
        {
          "output_type": "execute_result",
          "data": {
            "text/plain": [
              "13.342803266180612"
            ]
          },
          "metadata": {},
          "execution_count": 136
        }
      ]
    },
    {
      "cell_type": "markdown",
      "source": [
        "Step 4: Let's check the country's race distribution to identify the minorities"
      ],
      "metadata": {
        "id": "-Oh90HYsuMe4"
      }
    },
    {
      "cell_type": "code",
      "source": [
        "data[data[:,2]==0]"
      ],
      "metadata": {
        "colab": {
          "base_uri": "https://localhost:8080/"
        },
        "id": "4yV0flF-rdb7",
        "outputId": "8cd24ecd-2d86-4da2-a360-a7306b9e3222"
      },
      "execution_count": 137,
      "outputs": [
        {
          "output_type": "execute_result",
          "data": {
            "text/plain": [
              "array([[34.,  4.,  0.,  1.,  0.,  0., 45.,  0.],\n",
              "       [35., 10.,  0.,  0.,  0.,  0., 40.,  0.],\n",
              "       [60.,  6.,  0.,  0.,  0.,  0., 10.,  0.],\n",
              "       [51.,  9.,  0.,  1.,  0.,  0., 40.,  0.],\n",
              "       [25., 10.,  0.,  0.,  0.,  0., 20.,  0.],\n",
              "       [20.,  9.,  0.,  1.,  0.,  0., 48.,  0.],\n",
              "       [23., 10.,  0.,  0.,  0.,  0., 25.,  0.],\n",
              "       [29.,  9.,  0.,  1.,  0.,  0., 40.,  0.],\n",
              "       [27., 12.,  0.,  1.,  0.,  0., 40.,  0.],\n",
              "       [31., 12.,  0.,  0.,  0.,  0., 40.,  0.]])"
            ]
          },
          "metadata": {},
          "execution_count": 137
        }
      ]
    },
    {
      "cell_type": "code",
      "source": [
        "race_0= data[data[:, 2]==0]\n",
        "race_1= data[data[:,2]==1]\n",
        "race_2= data[data[:,2]==2]\n",
        "race_3= data[data[:,2]==3]\n",
        "race_4= data[data[:,2]==4]\n"
      ],
      "metadata": {
        "id": "-fYIBtyonQGC"
      },
      "execution_count": 138,
      "outputs": []
    },
    {
      "cell_type": "code",
      "source": [
        "len_0 = len(race_0)\n",
        "print(\"Length of Race_0 is :\",len_0)\n",
        "print(\"Length of Race_1 is :\",len(race_1))\n",
        "print(\"Length of Race_2 is :\",len(race_2))\n",
        "print(\"Length of Race_3 is :\",len(race_3))\n",
        "print(\"Length of Race_4 is :\",len(race_4))\n",
        "print(\"Race_3 has the minimum number \\\n",
        "of citizens which is 6\")"
      ],
      "metadata": {
        "colab": {
          "base_uri": "https://localhost:8080/"
        },
        "id": "rp5qRzZesiSS",
        "outputId": "7e937a9b-2324-43f7-9021-85255c168a23"
      },
      "execution_count": 139,
      "outputs": [
        {
          "output_type": "stream",
          "name": "stdout",
          "text": [
            "Length of Race_0 is : 10\n",
            "Length of Race_1 is : 27\n",
            "Length of Race_2 is : 110\n",
            "Length of Race_3 is : 6\n",
            "Length of Race_4 is : 847\n",
            "Race_3 has the minimum number of citizens which is 6\n"
          ]
        }
      ]
    },
    {
      "cell_type": "code",
      "source": [
        "minority_race = 3"
      ],
      "metadata": {
        "id": "00NNokRFHVLK"
      },
      "execution_count": 140,
      "outputs": []
    },
    {
      "cell_type": "markdown",
      "source": [
        "\n",
        "Step 5: As per govt. records citizens above 60 should not work more than 25 hours a week. Let us check if the policy is in place."
      ],
      "metadata": {
        "id": "fA5r8cwIt6de"
      }
    },
    {
      "cell_type": "code",
      "source": [
        "senior_citizens = age[age>60]\n",
        "senior_citizens"
      ],
      "metadata": {
        "colab": {
          "base_uri": "https://localhost:8080/"
        },
        "id": "-jpXyGclJ5bR",
        "outputId": "d213998e-4eca-4aad-8d19-46cb976012ea"
      },
      "execution_count": 141,
      "outputs": [
        {
          "output_type": "execute_result",
          "data": {
            "text/plain": [
              "array([79., 67., 76., 61., 70., 64., 71., 68., 66., 64., 90., 66., 75.,\n",
              "       65., 64., 61., 65., 77., 62., 76., 63., 66., 67., 65., 62., 63.,\n",
              "       80., 67., 63., 72., 62., 74., 67., 72., 69., 65., 65., 71., 70.,\n",
              "       66., 65., 61., 61., 68., 64., 64., 62., 73., 72., 63., 62., 61.,\n",
              "       71., 63., 63., 67., 81., 64., 67., 78., 63.])"
            ]
          },
          "metadata": {},
          "execution_count": 141
        }
      ]
    },
    {
      "cell_type": "code",
      "source": [
        "working_hours = data[:,6]\n",
        "working_hours_sc = np.extract(age>60,working_hours)\n",
        "\n",
        "working_hours_sum = working_hours_sc.sum()\n",
        "working_hours_sum"
      ],
      "metadata": {
        "colab": {
          "base_uri": "https://localhost:8080/"
        },
        "id": "Q_GOUn23Pht0",
        "outputId": "e7989f4f-6e92-45f0-f486-7cb5665cd76a"
      },
      "execution_count": 142,
      "outputs": [
        {
          "output_type": "execute_result",
          "data": {
            "text/plain": [
              "1917.0"
            ]
          },
          "metadata": {},
          "execution_count": 142
        }
      ]
    },
    {
      "cell_type": "code",
      "source": [
        "senior_citizens_len = len(senior_citizens)\n",
        "senior_citizens_len\n"
      ],
      "metadata": {
        "colab": {
          "base_uri": "https://localhost:8080/"
        },
        "id": "AT2u7RaIPhw-",
        "outputId": "e5fd560a-4156-4b8c-b5a8-f27a0e0a2bc1"
      },
      "execution_count": 143,
      "outputs": [
        {
          "output_type": "execute_result",
          "data": {
            "text/plain": [
              "61"
            ]
          },
          "metadata": {},
          "execution_count": 143
        }
      ]
    },
    {
      "cell_type": "code",
      "source": [
        "avg_working_hours = (working_hours_sum/senior_citizens_len)\n",
        "print(avg_working_hours)\n",
        "if avg_working_hours <25:\n",
        "  print('govt policy is followed')\n",
        "else :\n",
        "  print('govt policy is not followed')\n"
      ],
      "metadata": {
        "colab": {
          "base_uri": "https://localhost:8080/"
        },
        "id": "cnCVd9BDPh3N",
        "outputId": "ab2e1399-59a3-4466-d981-a1cf9fb44604"
      },
      "execution_count": 144,
      "outputs": [
        {
          "output_type": "stream",
          "name": "stdout",
          "text": [
            "31.42622950819672\n",
            "govt policy is not followed\n"
          ]
        }
      ]
    },
    {
      "cell_type": "markdown",
      "source": [
        "Step 6: Let's check that higher educated people have better pay in general."
      ],
      "metadata": {
        "id": "4hNGrG52ZKpU"
      }
    },
    {
      "cell_type": "code",
      "source": [
        "education = data[:,1]\n",
        "high_ed = education[education>10]\n",
        "low_ed = education[education<=10]\n",
        "high_ed"
      ],
      "metadata": {
        "colab": {
          "base_uri": "https://localhost:8080/"
        },
        "id": "Ds1yX3JTPh4_",
        "outputId": "c329a1b8-8b7b-4f53-9058-306a4ba7573f"
      },
      "execution_count": 145,
      "outputs": [
        {
          "output_type": "execute_result",
          "data": {
            "text/plain": [
              "array([13., 13., 13., 14., 14., 13., 13., 13., 12., 11., 14., 16., 13.,\n",
              "       12., 13., 12., 13., 13., 13., 14., 11., 11., 15., 13., 11., 13.,\n",
              "       16., 13., 13., 12., 13., 14., 16., 11., 13., 16., 12., 14., 13.,\n",
              "       14., 13., 15., 11., 13., 13., 13., 13., 12., 12., 13., 12., 14.,\n",
              "       11., 11., 13., 13., 13., 14., 14., 12., 14., 11., 13., 13., 13.,\n",
              "       13., 13., 14., 16., 13., 13., 14., 14., 14., 13., 13., 13., 12.,\n",
              "       13., 13., 11., 15., 13., 14., 13., 12., 12., 15., 13., 11., 13.,\n",
              "       13., 14., 14., 13., 12., 13., 14., 15., 13., 13., 13., 13., 13.,\n",
              "       14., 13., 12., 12., 12., 13., 14., 13., 14., 11., 13., 11., 14.,\n",
              "       12., 11., 13., 11., 12., 13., 13., 13., 13., 11., 14., 13., 13.,\n",
              "       12., 13., 11., 14., 13., 12., 13., 13., 13., 13., 11., 14., 16.,\n",
              "       13., 14., 14., 13., 12., 14., 13., 12., 11., 12., 13., 13., 14.,\n",
              "       13., 11., 13., 12., 13., 13., 13., 12., 13., 13., 13., 11., 11.,\n",
              "       11., 13., 13., 13., 14., 12., 15., 11., 13., 16., 11., 13., 13.,\n",
              "       13., 14., 14., 11., 16., 13., 12., 13., 13., 13., 13., 13., 15.,\n",
              "       13., 13., 12., 14., 14., 13., 13., 13., 15., 13., 11., 13., 13.,\n",
              "       13., 13., 16., 16., 13., 16., 14., 14., 12., 13., 11., 13., 14.,\n",
              "       13., 12., 14., 14., 13., 13., 13., 16., 13., 13., 13., 11., 13.,\n",
              "       13., 13., 13., 13., 11., 11., 13., 13., 14., 11., 13., 13., 13.,\n",
              "       13., 11., 13., 16., 13., 13., 11., 11., 14., 13., 11., 11., 13.,\n",
              "       11., 13., 14., 13., 12., 14., 13., 13., 11., 11., 14., 11., 13.,\n",
              "       13., 13., 13., 13., 13., 14., 11., 13., 16., 13., 13., 13., 13.,\n",
              "       14., 13., 13., 11., 13., 13., 13., 11., 13., 11., 13., 15., 14.,\n",
              "       13., 13., 12., 13., 13., 14., 14., 14., 15., 13., 12., 13., 14.,\n",
              "       13., 12., 13., 13., 11., 13., 13., 14., 12., 11., 13., 11., 14.,\n",
              "       13., 13.])"
            ]
          },
          "metadata": {},
          "execution_count": 145
        }
      ]
    },
    {
      "cell_type": "code",
      "source": [
        "income = data[:,7]\n",
        "pay_high = np.extract(education > 10,income)\n",
        "print('avg pay for education greater then 10 :',round(pay_high.mean(),2))\n",
        "pay_low = np.extract(education <= 10,income)\n",
        "print('avg pay for education less then or equal 10 :',round(pay_low.mean(),2))"
      ],
      "metadata": {
        "colab": {
          "base_uri": "https://localhost:8080/"
        },
        "id": "Xt7z55okPiMY",
        "outputId": "1b3a4a0a-a97d-4313-8ae5-083218eee4d4"
      },
      "execution_count": 146,
      "outputs": [
        {
          "output_type": "stream",
          "name": "stdout",
          "text": [
            "avg pay for education greater then 10 : 0.43\n",
            "avg pay for education less then or equal 10 : 0.14\n"
          ]
        }
      ]
    },
    {
      "cell_type": "markdown",
      "source": [
        "**PROJECTPROJECT**"
      ],
      "metadata": {
        "id": "knSRAvXUCNvo"
      }
    },
    {
      "cell_type": "code",
      "source": [
        "project_data = np.genfromtxt(\"/content/KAG_Conversion_Data.csv\",delimiter=',',skip_header=1)"
      ],
      "metadata": {
        "id": "1O051QLiPiO0"
      },
      "execution_count": 147,
      "outputs": []
    },
    {
      "cell_type": "code",
      "source": [
        "project_data_str = np.genfromtxt(\"/content/KAG_Conversion_Data.csv\",delimiter=',',skip_header=1,dtype='str')"
      ],
      "metadata": {
        "id": "9271GIIUELWh"
      },
      "execution_count": 157,
      "outputs": []
    },
    {
      "cell_type": "code",
      "source": [
        "project_data"
      ],
      "metadata": {
        "colab": {
          "base_uri": "https://localhost:8080/"
        },
        "id": "Z8NklIshGhyE",
        "outputId": "ae0840ed-d77f-4828-8e8e-f4085c1ab141"
      },
      "execution_count": 148,
      "outputs": [
        {
          "output_type": "execute_result",
          "data": {
            "text/plain": [
              "array([[7.08746000e+05, 9.16000000e+02, 1.03916000e+05, ...,\n",
              "        1.42999995e+00, 2.00000000e+00, 1.00000000e+00],\n",
              "       [7.08749000e+05, 9.16000000e+02, 1.03917000e+05, ...,\n",
              "        1.82000002e+00, 2.00000000e+00, 0.00000000e+00],\n",
              "       [7.08771000e+05, 9.16000000e+02, 1.03920000e+05, ...,\n",
              "        0.00000000e+00, 1.00000000e+00, 0.00000000e+00],\n",
              "       ...,\n",
              "       [1.31441200e+06, 1.17800000e+03, 1.79979000e+05, ...,\n",
              "        4.02899995e+01, 2.00000000e+00, 0.00000000e+00],\n",
              "       [1.31441400e+06, 1.17800000e+03, 1.79981000e+05, ...,\n",
              "        1.98710001e+02, 8.00000000e+00, 2.00000000e+00],\n",
              "       [1.31441500e+06, 1.17800000e+03, 1.79982000e+05, ...,\n",
              "        1.65609999e+02, 5.00000000e+00, 2.00000000e+00]])"
            ]
          },
          "metadata": {},
          "execution_count": 148
        }
      ]
    },
    {
      "cell_type": "code",
      "source": [
        "print(np.unique(project_data[:,1],return_counts=True))"
      ],
      "metadata": {
        "colab": {
          "base_uri": "https://localhost:8080/"
        },
        "id": "-yT0O6GRHFuH",
        "outputId": "ce7c873d-5cfb-4e1c-e926-42871202c605"
      },
      "execution_count": 149,
      "outputs": [
        {
          "output_type": "stream",
          "name": "stdout",
          "text": [
            "(array([ 916.,  936., 1178.]), array([ 54, 464, 625]))\n"
          ]
        }
      ]
    },
    {
      "cell_type": "code",
      "source": [
        "campaign_916 = project_data[project_data[:,1]==916]\n",
        "campaign_936 = project_data[project_data[:,1]==936]\n",
        "campaign_1178 = project_data[project_data[:,1]==1178]"
      ],
      "metadata": {
        "id": "RFJJAyc1ImEe"
      },
      "execution_count": 150,
      "outputs": []
    },
    {
      "cell_type": "code",
      "source": [
        "print('Number of times 916 campaign ran:', len(campaign_916))\n",
        "print('Number of times 936 campaign ran:', len(campaign_936))\n",
        "print('Number of times 1178 campaign ran:', len(campaign_1178))"
      ],
      "metadata": {
        "colab": {
          "base_uri": "https://localhost:8080/"
        },
        "id": "EE1A71_iHRk2",
        "outputId": "c755befd-f3af-4578-ac5a-42495857475e"
      },
      "execution_count": 151,
      "outputs": [
        {
          "output_type": "stream",
          "name": "stdout",
          "text": [
            "Number of times 916 campaign ran: 54\n",
            "Number of times 936 campaign ran: 464\n",
            "Number of times 1178 campaign ran: 625\n"
          ]
        }
      ]
    },
    {
      "cell_type": "code",
      "source": [
        "np.unique(project_data_str[:,3])"
      ],
      "metadata": {
        "colab": {
          "base_uri": "https://localhost:8080/"
        },
        "id": "TJkdQa3SJns-",
        "outputId": "de12a2dc-8d95-4ee8-b2ec-668faeccba31"
      },
      "execution_count": 160,
      "outputs": [
        {
          "output_type": "execute_result",
          "data": {
            "text/plain": [
              "array(['30-34', '35-39', '40-44', '45-49'], dtype='<U11')"
            ]
          },
          "metadata": {},
          "execution_count": 160
        }
      ]
    },
    {
      "cell_type": "code",
      "source": [
        "amount = project_data[:,8]\n",
        "print('The average amount spent on ads is', amount.mean())\n",
        "print('The minimum amount spent on ads is', amount.min())\n",
        "print('The maximum amount spent on ads is', amount.max())\n"
      ],
      "metadata": {
        "colab": {
          "base_uri": "https://localhost:8080/"
        },
        "id": "wDffHqqqPF4d",
        "outputId": "9d134fbb-feb5-4b11-a502-ccd31399a85f"
      },
      "execution_count": 153,
      "outputs": [
        {
          "output_type": "stream",
          "name": "stdout",
          "text": [
            "The average amount spent on ads is 51.36065613141295\n",
            "The minimum amount spent on ads is 0.0\n",
            "The maximum amount spent on ads is 639.9499981\n"
          ]
        }
      ]
    },
    {
      "cell_type": "code",
      "source": [
        "ad_id=project_data[:,0]"
      ],
      "metadata": {
        "id": "ih_b3o_sGFVr"
      },
      "execution_count": 161,
      "outputs": []
    },
    {
      "cell_type": "code",
      "source": [
        "clicks = project_data[:,7]\n",
        "print(clicks.max())\n",
        "click_ad_id = ad_id[clicks==421.0]\n",
        "print(click_ad_id)"
      ],
      "metadata": {
        "colab": {
          "base_uri": "https://localhost:8080/"
        },
        "id": "BmZmZ1xbPcZQ",
        "outputId": "87fe89e2-082c-4267-8625-07b2d6a241f0"
      },
      "execution_count": 163,
      "outputs": [
        {
          "output_type": "stream",
          "name": "stdout",
          "text": [
            "421.0\n",
            "[1121814.]\n",
            "the ad with the most clicks did not have the most spent\n"
          ]
        }
      ]
    },
    {
      "cell_type": "code",
      "source": [
        "got_product = project_data[:,10]\n",
        "ppl_got_product = got_product[clicks==421.0]\n",
        "print('The number of ppl that bought the product is', ppl_got_product)\n",
        "print('The maximum number of purchases in this dataset is',got_product.max())\n",
        "print('''the number of purchases for the most number of clicks \\\n",
        "is not the same as max number of purchases in dataset''')"
      ],
      "metadata": {
        "colab": {
          "base_uri": "https://localhost:8080/"
        },
        "id": "x8mpj89mGvsy",
        "outputId": "f5ab02c0-96f5-4b70-cd83-c67e723e57c7"
      },
      "execution_count": 174,
      "outputs": [
        {
          "output_type": "stream",
          "name": "stdout",
          "text": [
            "The number of ppl that bought the product is [13.]\n",
            "The maximum number of purchases in this dataset is 21.0\n",
            "the number of purchase for the most number of clicks is not the same as max number of purchases in dataset\n"
          ]
        }
      ]
    },
    {
      "cell_type": "code",
      "source": [
        "data = project_data_str[clicks==421.0]\n",
        "data"
      ],
      "metadata": {
        "colab": {
          "base_uri": "https://localhost:8080/"
        },
        "id": "R3bYh-83J_Lq",
        "outputId": "33b3cb25-952f-42bc-fc9c-4216bfa77104"
      },
      "execution_count": 177,
      "outputs": [
        {
          "output_type": "execute_result",
          "data": {
            "text/plain": [
              "array([['1121814', '1178', '144659', '30-34', 'F', '27', '2223278',\n",
              "        '421', '612.3000032', '38', '13']], dtype='<U11')"
            ]
          },
          "metadata": {},
          "execution_count": 177
        }
      ]
    }
  ]
}